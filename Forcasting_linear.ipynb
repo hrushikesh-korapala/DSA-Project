{
 "cells": [
  {
   "cell_type": "code",
   "execution_count": 43,
   "metadata": {
    "collapsed": true
   },
   "outputs": [],
   "source": [
    "import numpy as np\n",
    "import pandas as pd\n",
    "from sklearn.linear_model import LinearRegression\n",
    "from collections import defaultdict\n",
    "from sklearn.metrics import mean_squared_error, mean_absolute_error"
   ]
  },
  {
   "cell_type": "code",
   "execution_count": 44,
   "outputs": [],
   "source": [
    "datasets = [\"Study_A.csv\", \"Study_B.csv\", \"Study_C.csv\", \"Study_D.csv\"]\n",
    "train = pd.concat([pd.read_csv(df) for df in datasets])\n",
    "test = pd.read_csv(\"Study_E.csv\")\n",
    "train = train.to_numpy()\n",
    "test = test.to_numpy()"
   ],
   "metadata": {
    "collapsed": false
   }
  },
  {
   "cell_type": "code",
   "execution_count": 45,
   "outputs": [
    {
     "name": "stdout",
     "output_type": "stream",
     "text": [
      "513\n",
      "513\n"
     ]
    }
   ],
   "source": [
    "def featureExtractor(inpTens, testSet=False):\n",
    "    final = []\n",
    "    if not testSet:\n",
    "        final.append(inpTens[7:-1])\n",
    "    else:\n",
    "        final.append(inpTens[7:])\n",
    "    return np.array(final)\n",
    "\n",
    "\n",
    "def horizontal(inp, test=0):\n",
    "    sequences = []\n",
    "    lens = []\n",
    "    patients = []\n",
    "    patients_dict = defaultdict(list)\n",
    "    for x in inp:\n",
    "        patient = x[2]\n",
    "        patients_dict[patient].append(featureExtractor(x, test))\n",
    "\n",
    "    for patient, tensor_list in patients_dict.items():\n",
    "        sequence = np.concatenate(tensor_list, axis=0)\n",
    "        sequences.append(sequence)\n",
    "        patients.append(patient)\n",
    "        lens.append(len(tensor_list))\n",
    "    return sequences, patients\n",
    "\n",
    "\n",
    "preProcessed, _ = horizontal(train)\n",
    "preTrained, patientLabels = horizontal(test, True)\n",
    "\n",
    "print(len(preTrained))\n",
    "print(len(patientLabels))"
   ],
   "metadata": {
    "collapsed": false
   }
  },
  {
   "cell_type": "code",
   "execution_count": 46,
   "outputs": [
    {
     "name": "stdout",
     "output_type": "stream",
     "text": [
      "513\n",
      "2434\n",
      "804\n"
     ]
    }
   ],
   "source": [
    "def uniqueDays(inp):\n",
    "    toReturn = []\n",
    "    for x in inp:\n",
    "        inds = np.unique(x[:, 0].astype(int), return_index=True)[1]\n",
    "        toReturn.append(x[inds])\n",
    "    return toReturn\n",
    "\n",
    "def Processed(inp):\n",
    "    series = []\n",
    "    valueRanges = [35, 77, 119, 161, 203]\n",
    "    tolerance = 15\n",
    "    for inputs in inp:\n",
    "        if inputs[0][0] == 0 and len(inputs) > 1:\n",
    "            inputs = np.array(inputs, dtype=float) # convert the first column from string to float\n",
    "            moddedSeries = []\n",
    "            index = 0\n",
    "            for i, valueRange in enumerate(valueRanges):\n",
    "                # check if the time point is within the current range\n",
    "                while index < len(inputs) and (inputs[index][0] < valueRange - tolerance or inputs[index][0] > valueRange + tolerance):\n",
    "                    index += 1\n",
    "                if index < len(inputs):\n",
    "                    moddedSeries.append(inputs[index])\n",
    "                    index += 1\n",
    "                else:\n",
    "                    break\n",
    "            if len(moddedSeries) == 5:\n",
    "                moddedSeries.append(inputs[-1])\n",
    "                series.append(np.vstack(moddedSeries))\n",
    "    return series\n",
    "\n",
    "\n",
    "\n",
    "preTrained = uniqueDays(preTrained)\n",
    "preProcessed = uniqueDays(preProcessed)\n",
    "processed = Processed(preProcessed)\n",
    "\n",
    "print(len(preTrained))\n",
    "print(len(preProcessed))\n",
    "print(len(processed))"
   ],
   "metadata": {
    "collapsed": false
   }
  },
  {
   "cell_type": "code",
   "execution_count": 47,
   "outputs": [
    {
     "name": "stdout",
     "output_type": "stream",
     "text": [
      "Best alpha: 0.9\n",
      "Best gamma: 0.7\n",
      "Best RMSE: 7.802027486192427\n"
     ]
    }
   ],
   "source": [
    "X = [x[:-1] for x in processed]\n",
    "y = [x[-1, -1] for x in processed]\n",
    "\n",
    "def doubleExponentialMean(inp, a=0.5, gamma=0.8):\n",
    "    predictions = []\n",
    "    for x in inp:\n",
    "        data = x.copy()\n",
    "        pred = data[0, -1]\n",
    "        grad = data[1, -1] - data[0, -1]\n",
    "        for x in range(1, len(data)):\n",
    "            prev = pred\n",
    "            pred = a * data[x, -1] + (1 - a) * (pred + grad)\n",
    "            grad = gamma * (pred - prev) + (1 - gamma) * grad\n",
    "        predictions.append(pred)\n",
    "    return predictions\n",
    "\n",
    "def inputs(inp):\n",
    "    return [x/inp for x in range(inp)]\n",
    "aVals = inputs(10)\n",
    "gammaVals = inputs(10)\n",
    "besta = 0\n",
    "bestgamma = 0\n",
    "bestVal = 1000000\n",
    "\n",
    "for a in aVals:\n",
    "    for gamma in gammaVals:\n",
    "        yhat = doubleExponentialMean(X, a, gamma)\n",
    "        mse = mean_squared_error(y, yhat)\n",
    "        mae = mean_absolute_error(y, yhat)\n",
    "        rmse = np.sqrt(mse)\n",
    "        if rmse < bestVal:\n",
    "            besta = a\n",
    "            bestgamma = gamma\n",
    "            bestVal = rmse\n",
    "\n",
    "print(\"Best alpha:\", besta)\n",
    "print(\"Best gamma:\", bestgamma)\n",
    "print(\"Best RMSE:\", bestVal)\n"
   ],
   "metadata": {
    "collapsed": false
   }
  },
  {
   "cell_type": "code",
   "execution_count": 48,
   "outputs": [],
   "source": [
    "viewPretrained = [x for x in preTrained if 4 > len(x) > 1]\n",
    "ShortInds = []\n",
    "LongInds = []\n",
    "GoingtoModelInds = []\n",
    "modelData = []\n",
    "finalPANS = []\n",
    "for x in range(len(preTrained)):\n",
    "    if len(preTrained[x]) < 5:\n",
    "        ShortInds.append(x)\n",
    "        finalPANS.append(preTrained[x][-1, -1])\n",
    "    else:\n",
    "        LongInds.append(x)\n",
    "        if preTrained[x][-1, 0] >= 150 and preTrained[x][-2, 0] >= 110:\n",
    "            GoingtoModelInds.append(x)\n",
    "            modelData.append(preTrained[x])\n",
    "\n",
    "predictions = doubleExponentialMean(modelData, besta, bestgamma)"
   ],
   "metadata": {
    "collapsed": false
   }
  },
  {
   "cell_type": "code",
   "execution_count": 49,
   "outputs": [],
   "source": [
    "y = []\n",
    "X = []\n",
    "preProcessed = [x for x in preProcessed if (x.ndim != 0 and x.shape[0] >= 2)]\n",
    "\n",
    "def generateInputs(inps):\n",
    "    X = []\n",
    "    for x in inps:\n",
    "        if x.ndim == 1:\n",
    "            x = np.expand_dims(x, 0)\n",
    "        inp = np.hstack((x[0, :-1], x[-1, :-1] if len(x) > 1 else x[0, :-1]))\n",
    "        X.append(inp)\n",
    "    return np.vstack(X)\n",
    "\n",
    "for x in preProcessed:\n",
    "    y.append(x[-1, -1])\n",
    "y = np.vstack(y)\n",
    "\n",
    "X = generateInputs(preProcessed)\n",
    "\n",
    "Xtest = generateInputs(preTrained)\n",
    "\n",
    "patientsLabels = np.vstack(patientLabels)\n",
    "reg = LinearRegression().fit(X, y)\n",
    "labels = reg.predict(Xtest)\n",
    "\n",
    "# Base Model\n",
    "labels = np.sum(Xtest[:, 32:], axis=1)[:, np.newaxis]\n",
    "\n",
    "# modifying base model\n",
    "labels = labels.squeeze().astype(float)\n",
    "oldlabels = labels.copy()\n",
    "# print(labels)\n",
    "for x in range(len(GoingtoModelInds)):\n",
    "    labels[GoingtoModelInds[x]] = predictions[x]\n",
    "labels = labels[:, np.newaxis]\n",
    "\n",
    "\n",
    "outputs = np.hstack((patientsLabels, labels))\n",
    "out = pd.DataFrame(outputs)\n",
    "file2 = pd.read_csv('sample_submission_PANSS.csv')\n",
    "\n",
    "out.columns = [\"PatientID\", \"PANSS_Total\"]\n",
    "out[\"PatientID\"] = out[\"PatientID\"].astype(int)\n",
    "\n",
    "keys = list(file2['PatientID'])\n",
    "selected_rows = out[out['PatientID'].isin(keys)]\n",
    "selected_rows.to_csv('prototyp3e.csv', index=False)\n"
   ],
   "metadata": {
    "collapsed": false
   }
  },
  {
   "cell_type": "code",
   "execution_count": null,
   "outputs": [],
   "source": [],
   "metadata": {
    "collapsed": false
   }
  }
 ],
 "metadata": {
  "kernelspec": {
   "display_name": "Python 3",
   "language": "python",
   "name": "python3"
  },
  "language_info": {
   "codemirror_mode": {
    "name": "ipython",
    "version": 2
   },
   "file_extension": ".py",
   "mimetype": "text/x-python",
   "name": "python",
   "nbconvert_exporter": "python",
   "pygments_lexer": "ipython2",
   "version": "2.7.6"
  }
 },
 "nbformat": 4,
 "nbformat_minor": 0
}
