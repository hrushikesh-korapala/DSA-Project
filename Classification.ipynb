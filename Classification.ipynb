{
 "cells": [
  {
   "cell_type": "code",
   "execution_count": 15,
   "metadata": {
    "collapsed": true
   },
   "outputs": [],
   "source": [
    "import numpy as np\n",
    "import pandas as pd\n",
    "from sklearn.model_selection import train_test_split\n",
    "from sklearn.ensemble import GradientBoostingClassifier\n",
    "from sklearn.model_selection import GridSearchCV\n",
    "from sklearn.metrics import log_loss"
   ]
  },
  {
   "cell_type": "code",
   "execution_count": 24,
   "outputs": [
    {
     "name": "stdout",
     "output_type": "stream",
     "text": [
      "(20947, 40)\n",
      "(1962, 39)\n"
     ]
    }
   ],
   "source": [
    "datasets = [\"Study_A.csv\", \"Study_B.csv\", \"Study_C.csv\", \"Study_D.csv\"]\n",
    "train = pd.concat([pd.read_csv(df) for df in datasets])\n",
    "test = pd.read_csv(\"Study_E.csv\")\n",
    "train = train.to_numpy()\n",
    "test = test.to_numpy()\n",
    "\n",
    "print(train.shape)\n",
    "print(test.shape)"
   ],
   "metadata": {
    "collapsed": false
   }
  },
  {
   "cell_type": "code",
   "execution_count": 25,
   "outputs": [
    {
     "name": "stdout",
     "output_type": "stream",
     "text": [
      "(20947, 34)\n",
      "(1962, 34)\n"
     ]
    }
   ],
   "source": [
    "scores = train[:, 7:-1]\n",
    "testIDs = test[:, 5]\n",
    "test_scores = test[:, 7:]\n",
    "\n",
    "toLabel = {\"Passed\": 0, \"Assign to CS\": 1, \"Flagged\": 1}\n",
    "\n",
    "scores = np.concatenate((train[:,2].reshape((-1, 1)), scores, train[:, -1].reshape((-1, 1))), axis=1)\n",
    "testPy = np.concatenate((test[:, 2].reshape((-1, 1)), test_scores, test[:, -1].reshape((-1, 1))), axis=1)\n",
    "\n",
    "print(scores.shape)\n",
    "print(testPy.shape)\n"
   ],
   "metadata": {
    "collapsed": false
   }
  },
  {
   "cell_type": "code",
   "execution_count": 26,
   "outputs": [
    {
     "name": "stdout",
     "output_type": "stream",
     "text": [
      "(7, 32)\n",
      "(32,)\n"
     ]
    }
   ],
   "source": [
    "def featureExtraction(arr):\n",
    "    final = arr[1]\n",
    "    final = np.hstack((final, arr[2:-1]))\n",
    "    return final\n",
    "\n",
    "def Labels(arr, getLabs=True):\n",
    "    patient = arr[0, 0]\n",
    "    labels = [toLabel[x[-1]] for x in arr[1:]] if getLabs else []\n",
    "    sequences = []\n",
    "    runningAggregation = featureExtraction(arr[0])\n",
    "\n",
    "    for i, x in enumerate(arr[1:], start=1):\n",
    "        if x[0] == patient:\n",
    "            runningAggregation = np.vstack((runningAggregation, featureExtraction(x)))\n",
    "        else:\n",
    "            sequences.append(runningAggregation)\n",
    "            runningAggregation = featureExtraction(x)\n",
    "            patient = x[0]\n",
    "\n",
    "    sequences.append(runningAggregation)\n",
    "\n",
    "    if getLabs:\n",
    "        labels.append(toLabel[arr[-1][-1]])\n",
    "\n",
    "    return sequences, labels\n",
    "\n",
    "\n",
    "nuSeqs, nuLabels = Labels(scores)\n",
    "testSeqs, _ = Labels(testPy, False)\n",
    "\n",
    "print(nuSeqs[0].shape)\n",
    "print(testSeqs[0].shape)"
   ],
   "metadata": {
    "collapsed": false
   }
  },
  {
   "cell_type": "code",
   "execution_count": 27,
   "outputs": [
    {
     "name": "stdout",
     "output_type": "stream",
     "text": [
      "(5106, 96)\n",
      "(15841, 96)\n"
     ]
    }
   ],
   "source": [
    "def process(inp, window_size=1):\n",
    "    X = []\n",
    "    for x in inp:\n",
    "        if x.ndim == 1:\n",
    "            x = x[np.newaxis, :]\n",
    "        padded_x = np.pad(x, pad_width=((window_size, window_size), (0, 0)), mode='edge')\n",
    "        for y in range(window_size, len(x)+window_size):\n",
    "            seq = padded_x[y-window_size:y+window_size+1].flatten()\n",
    "            X.append(seq)\n",
    "    return X\n",
    "\n",
    "X = process(nuSeqs)\n",
    "Xtest = process(testSeqs)\n",
    "\n",
    "y = np.hstack(nuLabels)\n",
    "X = np.vstack(X)\n",
    "Xtest = np.vstack(Xtest)\n",
    "\n",
    "Xflag = X[y == 1]\n",
    "Xnorm = X[y == 0]\n",
    "\n",
    "print(Xflag.shape)\n",
    "print(Xnorm.shape)"
   ],
   "metadata": {
    "collapsed": false
   }
  },
  {
   "cell_type": "code",
   "execution_count": 30,
   "outputs": [
    {
     "name": "stdout",
     "output_type": "stream",
     "text": [
      "Best Hyperparameters:  {'learning_rate': 0.01, 'max_depth': 4, 'n_estimators': 500}\n",
      "Train Loss:  6.637865629815334\n",
      "Test Loss:  6.847433913541111\n"
     ]
    }
   ],
   "source": [
    "X_train, X_test, y_train, y_test = train_test_split(X, y, test_size=0.2, random_state=0)\n",
    "\n",
    "param_grid = {\n",
    "    'learning_rate': [0.01, 0.05, 0.1],\n",
    "    'n_estimators': [200, 500, 1000],\n",
    "    'max_depth': [2, 4, 6, 8]\n",
    "}\n",
    "\n",
    "clf = GradientBoostingClassifier()\n",
    "grid_search = GridSearchCV(clf, param_grid=param_grid, cv=5, n_jobs=-1)\n",
    "grid_search.fit(X, y)\n",
    "\n",
    "best_params = grid_search.best_params_\n",
    "best_score = grid_search.best_score_\n",
    "\n",
    "reg = GradientBoostingClassifier(**best_params).fit(X_train, y_train)\n",
    "y_train_preds = reg.predict(X_train)\n",
    "y_test_preds = reg.predict(X_test)\n",
    "train_loss = log_loss(y_train, y_train_preds)\n",
    "test_loss = log_loss(y_test, y_test_preds)\n",
    "\n",
    "print('Best Hyperparameters: ', best_params)\n",
    "print('Train Loss: ', train_loss)\n",
    "print('Test Loss: ', test_loss)"
   ],
   "metadata": {
    "collapsed": false
   }
  },
  {
   "cell_type": "code",
   "execution_count": 28,
   "outputs": [
    {
     "name": "stdout",
     "output_type": "stream",
     "text": [
      "Best Hyperparameters:  {'learning_rate': 0.05, 'max_depth': 6, 'max_features': 0.5, 'min_samples_leaf': 0.1, 'min_samples_split': 0.5, 'n_estimators': 200}\n",
      "Train Loss:  2.220446049250313e-16\n",
      "Test Loss:  5.8667712676319566\n"
     ]
    }
   ],
   "source": [
    "X_train, X_test, y_train, y_test = train_test_split(X, y, test_size=0.3, random_state=0)\n",
    "\n",
    "\n",
    "reg = GradientBoostingClassifier(learning_rate=0.8, n_estimators=400, max_depth=10).fit(X_train, y_train)\n",
    "y_train_preds = reg.predict(X_train)\n",
    "y_test_preds = reg.predict(X_test)\n",
    "train_loss = log_loss(y_train, y_train_preds)\n",
    "test_loss = log_loss(y_test, y_test_preds)\n",
    "\n",
    "print('Best Hyperparameters: ', best_params)\n",
    "print('Train Loss: ', train_loss)\n",
    "print('Test Loss: ', test_loss)"
   ],
   "metadata": {
    "collapsed": false
   }
  },
  {
   "cell_type": "code",
   "execution_count": 31,
   "outputs": [],
   "source": [
    "reg = GradientBoostingClassifier(**best_params).fit(X, y)\n",
    "preds = reg.predict_proba(Xtest)[:, 1]\n",
    "out = pd.DataFrame({\"AssessmentID\": testIDs, \"LeadStatus\": preds})\n",
    "out.to_csv(\"classification_final.csv\", index=False)"
   ],
   "metadata": {
    "collapsed": false
   }
  },
  {
   "cell_type": "code",
   "execution_count": null,
   "outputs": [],
   "source": [],
   "metadata": {
    "collapsed": false
   }
  }
 ],
 "metadata": {
  "kernelspec": {
   "display_name": "Python 3",
   "language": "python",
   "name": "python3"
  },
  "language_info": {
   "codemirror_mode": {
    "name": "ipython",
    "version": 2
   },
   "file_extension": ".py",
   "mimetype": "text/x-python",
   "name": "python",
   "nbconvert_exporter": "python",
   "pygments_lexer": "ipython2",
   "version": "2.7.6"
  }
 },
 "nbformat": 4,
 "nbformat_minor": 0
}
